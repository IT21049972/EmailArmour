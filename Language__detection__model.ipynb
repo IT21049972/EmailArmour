{
  "nbformat": 4,
  "nbformat_minor": 0,
  "metadata": {
    "colab": {
      "provenance": [],
      "collapsed_sections": [
        "xHiZTtCR1Gt3",
        "xkFtspyQ3h4K",
        "eQYkBh6lHFWp",
        "93_pcph3FBfw",
        "wY4HymFM-n7x"
      ],
      "include_colab_link": true
    },
    "kernelspec": {
      "name": "python3",
      "display_name": "Python 3"
    },
    "language_info": {
      "name": "python"
    }
  },
  "cells": [
    {
      "cell_type": "markdown",
      "metadata": {
        "id": "view-in-github",
        "colab_type": "text"
      },
      "source": [
        "<a href=\"https://colab.research.google.com/github/IT21049972/EmailArmour/blob/main/Language__detection__model.ipynb\" target=\"_parent\"><img src=\"https://colab.research.google.com/assets/colab-badge.svg\" alt=\"Open In Colab\"/></a>"
      ]
    },
    {
      "cell_type": "markdown",
      "source": [
        "##import library\n"
      ],
      "metadata": {
        "id": "xHiZTtCR1Gt3"
      }
    },
    {
      "cell_type": "code",
      "execution_count": null,
      "metadata": {
        "id": "tw9NPfyR0o5H"
      },
      "outputs": [],
      "source": [
        "import pandas as pd\n",
        "import numpy as np\n",
        "import re\n",
        "from sklearn.feature_extraction.text import TfidfVectorizer\n",
        "from sklearn.preprocessing import LabelEncoder\n",
        "from sklearn.model_selection import train_test_split\n",
        "# model building tools\n",
        "from sklearn.naive_bayes import MultinomialNB\n",
        "from sklearn.pipeline import Pipeline\n",
        "import pickle"
      ]
    },
    {
      "cell_type": "code",
      "source": [
        "from google.colab import drive\n",
        "drive.mount('/content/drive')"
      ],
      "metadata": {
        "id": "lJdpyRN6r60l",
        "colab": {
          "base_uri": "https://localhost:8080/"
        },
        "outputId": "ee270d4f-e3fd-45aa-f63b-07cd016b0ee9"
      },
      "execution_count": null,
      "outputs": [
        {
          "output_type": "stream",
          "name": "stdout",
          "text": [
            "Mounted at /content/drive\n"
          ]
        }
      ]
    },
    {
      "cell_type": "markdown",
      "source": [
        "##Data preprocessing"
      ],
      "metadata": {
        "id": "xkFtspyQ3h4K"
      }
    },
    {
      "cell_type": "code",
      "source": [
        "df=pd.read_csv(\"/content/drive/MyDrive/Email Armor/Datasets/Function 01/Language Dataset/dataset.csv\")\n",
        "df.head(20)"
      ],
      "metadata": {
        "id": "Wj7AEfTu3hEv",
        "colab": {
          "base_uri": "https://localhost:8080/",
          "height": 676
        },
        "outputId": "ade50a04-95ca-4e52-e979-62ef1ce1cc57"
      },
      "execution_count": null,
      "outputs": [
        {
          "output_type": "execute_result",
          "data": {
            "text/plain": [
              "                                                 Text    language\n",
              "0   klement gottwaldi surnukeha palsameeriti ning ...    Estonian\n",
              "1   sebes joseph pereira thomas  på eng the jesuit...     Swedish\n",
              "2   ถนนเจริญกรุง อักษรโรมัน thanon charoen krung เ...        Thai\n",
              "3   விசாகப்பட்டினம் தமிழ்ச்சங்கத்தை இந்துப் பத்திர...       Tamil\n",
              "4   de spons behoort tot het geslacht haliclona en...       Dutch\n",
              "5   エノが行きがかりでバスに乗ってしまい、気分が悪くなった際に助けるが、今すぐバスを降りたいと運...    Japanese\n",
              "6   tsutinalar i̇ngilizce tsuutina kanadada albert...     Turkish\n",
              "7   müller mox figura centralis circulorum doctoru...       Latin\n",
              "8   برقی بار electric charge تمام زیرجوہری ذرات کی...        Urdu\n",
              "9   シャーリー・フィールドは、サン・ベルナルド・アベニュー沿い市民センターとrtマーティン高校に...    Japanese\n",
              "10  kemunculan pertamanya adalah ketika mencium ka...  Indonesian\n",
              "11  barocco pt escândalo de ª página é um filme fr...   Portugese\n",
              "12  association de recherche et de sauvegarde de l...      French\n",
              "13  胡赛尼本人和小说的主人公阿米尔一样，都是出生在阿富汗首都喀布尔，少年时代便离开了这个国家。胡...     Chinese\n",
              "14  한국에서 성씨가 사용되기 시작한 정확한 시기는 알 수 없으나 한자漢字 등 중국 문물...      Korean\n",
              "15  การฟาดฟันของบรรดาสาวงามในกองประกวด miss beauty...        Thai\n",
              "16  dorota rabczewska artistinimega doda sündinud ...    Estonian\n",
              "17  diante destes gerenciamentos podendo ser feito...   Portugese\n",
              "18  besemer s van der geest v murray j bijleveld c...   Portugese\n",
              "19  महाराष्ट्र  मई  को भारत का राज्य बनाया गया था।...       Hindi"
            ],
            "text/html": [
              "\n",
              "  <div id=\"df-1a303d70-8aea-4b2e-9de9-6a63c04feea9\" class=\"colab-df-container\">\n",
              "    <div>\n",
              "<style scoped>\n",
              "    .dataframe tbody tr th:only-of-type {\n",
              "        vertical-align: middle;\n",
              "    }\n",
              "\n",
              "    .dataframe tbody tr th {\n",
              "        vertical-align: top;\n",
              "    }\n",
              "\n",
              "    .dataframe thead th {\n",
              "        text-align: right;\n",
              "    }\n",
              "</style>\n",
              "<table border=\"1\" class=\"dataframe\">\n",
              "  <thead>\n",
              "    <tr style=\"text-align: right;\">\n",
              "      <th></th>\n",
              "      <th>Text</th>\n",
              "      <th>language</th>\n",
              "    </tr>\n",
              "  </thead>\n",
              "  <tbody>\n",
              "    <tr>\n",
              "      <th>0</th>\n",
              "      <td>klement gottwaldi surnukeha palsameeriti ning ...</td>\n",
              "      <td>Estonian</td>\n",
              "    </tr>\n",
              "    <tr>\n",
              "      <th>1</th>\n",
              "      <td>sebes joseph pereira thomas  på eng the jesuit...</td>\n",
              "      <td>Swedish</td>\n",
              "    </tr>\n",
              "    <tr>\n",
              "      <th>2</th>\n",
              "      <td>ถนนเจริญกรุง อักษรโรมัน thanon charoen krung เ...</td>\n",
              "      <td>Thai</td>\n",
              "    </tr>\n",
              "    <tr>\n",
              "      <th>3</th>\n",
              "      <td>விசாகப்பட்டினம் தமிழ்ச்சங்கத்தை இந்துப் பத்திர...</td>\n",
              "      <td>Tamil</td>\n",
              "    </tr>\n",
              "    <tr>\n",
              "      <th>4</th>\n",
              "      <td>de spons behoort tot het geslacht haliclona en...</td>\n",
              "      <td>Dutch</td>\n",
              "    </tr>\n",
              "    <tr>\n",
              "      <th>5</th>\n",
              "      <td>エノが行きがかりでバスに乗ってしまい、気分が悪くなった際に助けるが、今すぐバスを降りたいと運...</td>\n",
              "      <td>Japanese</td>\n",
              "    </tr>\n",
              "    <tr>\n",
              "      <th>6</th>\n",
              "      <td>tsutinalar i̇ngilizce tsuutina kanadada albert...</td>\n",
              "      <td>Turkish</td>\n",
              "    </tr>\n",
              "    <tr>\n",
              "      <th>7</th>\n",
              "      <td>müller mox figura centralis circulorum doctoru...</td>\n",
              "      <td>Latin</td>\n",
              "    </tr>\n",
              "    <tr>\n",
              "      <th>8</th>\n",
              "      <td>برقی بار electric charge تمام زیرجوہری ذرات کی...</td>\n",
              "      <td>Urdu</td>\n",
              "    </tr>\n",
              "    <tr>\n",
              "      <th>9</th>\n",
              "      <td>シャーリー・フィールドは、サン・ベルナルド・アベニュー沿い市民センターとrtマーティン高校に...</td>\n",
              "      <td>Japanese</td>\n",
              "    </tr>\n",
              "    <tr>\n",
              "      <th>10</th>\n",
              "      <td>kemunculan pertamanya adalah ketika mencium ka...</td>\n",
              "      <td>Indonesian</td>\n",
              "    </tr>\n",
              "    <tr>\n",
              "      <th>11</th>\n",
              "      <td>barocco pt escândalo de ª página é um filme fr...</td>\n",
              "      <td>Portugese</td>\n",
              "    </tr>\n",
              "    <tr>\n",
              "      <th>12</th>\n",
              "      <td>association de recherche et de sauvegarde de l...</td>\n",
              "      <td>French</td>\n",
              "    </tr>\n",
              "    <tr>\n",
              "      <th>13</th>\n",
              "      <td>胡赛尼本人和小说的主人公阿米尔一样，都是出生在阿富汗首都喀布尔，少年时代便离开了这个国家。胡...</td>\n",
              "      <td>Chinese</td>\n",
              "    </tr>\n",
              "    <tr>\n",
              "      <th>14</th>\n",
              "      <td>한국에서 성씨가 사용되기 시작한 정확한 시기는 알 수 없으나 한자漢字 등 중국 문물...</td>\n",
              "      <td>Korean</td>\n",
              "    </tr>\n",
              "    <tr>\n",
              "      <th>15</th>\n",
              "      <td>การฟาดฟันของบรรดาสาวงามในกองประกวด miss beauty...</td>\n",
              "      <td>Thai</td>\n",
              "    </tr>\n",
              "    <tr>\n",
              "      <th>16</th>\n",
              "      <td>dorota rabczewska artistinimega doda sündinud ...</td>\n",
              "      <td>Estonian</td>\n",
              "    </tr>\n",
              "    <tr>\n",
              "      <th>17</th>\n",
              "      <td>diante destes gerenciamentos podendo ser feito...</td>\n",
              "      <td>Portugese</td>\n",
              "    </tr>\n",
              "    <tr>\n",
              "      <th>18</th>\n",
              "      <td>besemer s van der geest v murray j bijleveld c...</td>\n",
              "      <td>Portugese</td>\n",
              "    </tr>\n",
              "    <tr>\n",
              "      <th>19</th>\n",
              "      <td>महाराष्ट्र  मई  को भारत का राज्य बनाया गया था।...</td>\n",
              "      <td>Hindi</td>\n",
              "    </tr>\n",
              "  </tbody>\n",
              "</table>\n",
              "</div>\n",
              "    <div class=\"colab-df-buttons\">\n",
              "\n",
              "  <div class=\"colab-df-container\">\n",
              "    <button class=\"colab-df-convert\" onclick=\"convertToInteractive('df-1a303d70-8aea-4b2e-9de9-6a63c04feea9')\"\n",
              "            title=\"Convert this dataframe to an interactive table.\"\n",
              "            style=\"display:none;\">\n",
              "\n",
              "  <svg xmlns=\"http://www.w3.org/2000/svg\" height=\"24px\" viewBox=\"0 -960 960 960\">\n",
              "    <path d=\"M120-120v-720h720v720H120Zm60-500h600v-160H180v160Zm220 220h160v-160H400v160Zm0 220h160v-160H400v160ZM180-400h160v-160H180v160Zm440 0h160v-160H620v160ZM180-180h160v-160H180v160Zm440 0h160v-160H620v160Z\"/>\n",
              "  </svg>\n",
              "    </button>\n",
              "\n",
              "  <style>\n",
              "    .colab-df-container {\n",
              "      display:flex;\n",
              "      gap: 12px;\n",
              "    }\n",
              "\n",
              "    .colab-df-convert {\n",
              "      background-color: #E8F0FE;\n",
              "      border: none;\n",
              "      border-radius: 50%;\n",
              "      cursor: pointer;\n",
              "      display: none;\n",
              "      fill: #1967D2;\n",
              "      height: 32px;\n",
              "      padding: 0 0 0 0;\n",
              "      width: 32px;\n",
              "    }\n",
              "\n",
              "    .colab-df-convert:hover {\n",
              "      background-color: #E2EBFA;\n",
              "      box-shadow: 0px 1px 2px rgba(60, 64, 67, 0.3), 0px 1px 3px 1px rgba(60, 64, 67, 0.15);\n",
              "      fill: #174EA6;\n",
              "    }\n",
              "\n",
              "    .colab-df-buttons div {\n",
              "      margin-bottom: 4px;\n",
              "    }\n",
              "\n",
              "    [theme=dark] .colab-df-convert {\n",
              "      background-color: #3B4455;\n",
              "      fill: #D2E3FC;\n",
              "    }\n",
              "\n",
              "    [theme=dark] .colab-df-convert:hover {\n",
              "      background-color: #434B5C;\n",
              "      box-shadow: 0px 1px 3px 1px rgba(0, 0, 0, 0.15);\n",
              "      filter: drop-shadow(0px 1px 2px rgba(0, 0, 0, 0.3));\n",
              "      fill: #FFFFFF;\n",
              "    }\n",
              "  </style>\n",
              "\n",
              "    <script>\n",
              "      const buttonEl =\n",
              "        document.querySelector('#df-1a303d70-8aea-4b2e-9de9-6a63c04feea9 button.colab-df-convert');\n",
              "      buttonEl.style.display =\n",
              "        google.colab.kernel.accessAllowed ? 'block' : 'none';\n",
              "\n",
              "      async function convertToInteractive(key) {\n",
              "        const element = document.querySelector('#df-1a303d70-8aea-4b2e-9de9-6a63c04feea9');\n",
              "        const dataTable =\n",
              "          await google.colab.kernel.invokeFunction('convertToInteractive',\n",
              "                                                    [key], {});\n",
              "        if (!dataTable) return;\n",
              "\n",
              "        const docLinkHtml = 'Like what you see? Visit the ' +\n",
              "          '<a target=\"_blank\" href=https://colab.research.google.com/notebooks/data_table.ipynb>data table notebook</a>'\n",
              "          + ' to learn more about interactive tables.';\n",
              "        element.innerHTML = '';\n",
              "        dataTable['output_type'] = 'display_data';\n",
              "        await google.colab.output.renderOutput(dataTable, element);\n",
              "        const docLink = document.createElement('div');\n",
              "        docLink.innerHTML = docLinkHtml;\n",
              "        element.appendChild(docLink);\n",
              "      }\n",
              "    </script>\n",
              "  </div>\n",
              "\n",
              "\n",
              "<div id=\"df-bdb94292-8d91-490f-b6fd-f8d1b6780043\">\n",
              "  <button class=\"colab-df-quickchart\" onclick=\"quickchart('df-bdb94292-8d91-490f-b6fd-f8d1b6780043')\"\n",
              "            title=\"Suggest charts\"\n",
              "            style=\"display:none;\">\n",
              "\n",
              "<svg xmlns=\"http://www.w3.org/2000/svg\" height=\"24px\"viewBox=\"0 0 24 24\"\n",
              "     width=\"24px\">\n",
              "    <g>\n",
              "        <path d=\"M19 3H5c-1.1 0-2 .9-2 2v14c0 1.1.9 2 2 2h14c1.1 0 2-.9 2-2V5c0-1.1-.9-2-2-2zM9 17H7v-7h2v7zm4 0h-2V7h2v10zm4 0h-2v-4h2v4z\"/>\n",
              "    </g>\n",
              "</svg>\n",
              "  </button>\n",
              "\n",
              "<style>\n",
              "  .colab-df-quickchart {\n",
              "      --bg-color: #E8F0FE;\n",
              "      --fill-color: #1967D2;\n",
              "      --hover-bg-color: #E2EBFA;\n",
              "      --hover-fill-color: #174EA6;\n",
              "      --disabled-fill-color: #AAA;\n",
              "      --disabled-bg-color: #DDD;\n",
              "  }\n",
              "\n",
              "  [theme=dark] .colab-df-quickchart {\n",
              "      --bg-color: #3B4455;\n",
              "      --fill-color: #D2E3FC;\n",
              "      --hover-bg-color: #434B5C;\n",
              "      --hover-fill-color: #FFFFFF;\n",
              "      --disabled-bg-color: #3B4455;\n",
              "      --disabled-fill-color: #666;\n",
              "  }\n",
              "\n",
              "  .colab-df-quickchart {\n",
              "    background-color: var(--bg-color);\n",
              "    border: none;\n",
              "    border-radius: 50%;\n",
              "    cursor: pointer;\n",
              "    display: none;\n",
              "    fill: var(--fill-color);\n",
              "    height: 32px;\n",
              "    padding: 0;\n",
              "    width: 32px;\n",
              "  }\n",
              "\n",
              "  .colab-df-quickchart:hover {\n",
              "    background-color: var(--hover-bg-color);\n",
              "    box-shadow: 0 1px 2px rgba(60, 64, 67, 0.3), 0 1px 3px 1px rgba(60, 64, 67, 0.15);\n",
              "    fill: var(--button-hover-fill-color);\n",
              "  }\n",
              "\n",
              "  .colab-df-quickchart-complete:disabled,\n",
              "  .colab-df-quickchart-complete:disabled:hover {\n",
              "    background-color: var(--disabled-bg-color);\n",
              "    fill: var(--disabled-fill-color);\n",
              "    box-shadow: none;\n",
              "  }\n",
              "\n",
              "  .colab-df-spinner {\n",
              "    border: 2px solid var(--fill-color);\n",
              "    border-color: transparent;\n",
              "    border-bottom-color: var(--fill-color);\n",
              "    animation:\n",
              "      spin 1s steps(1) infinite;\n",
              "  }\n",
              "\n",
              "  @keyframes spin {\n",
              "    0% {\n",
              "      border-color: transparent;\n",
              "      border-bottom-color: var(--fill-color);\n",
              "      border-left-color: var(--fill-color);\n",
              "    }\n",
              "    20% {\n",
              "      border-color: transparent;\n",
              "      border-left-color: var(--fill-color);\n",
              "      border-top-color: var(--fill-color);\n",
              "    }\n",
              "    30% {\n",
              "      border-color: transparent;\n",
              "      border-left-color: var(--fill-color);\n",
              "      border-top-color: var(--fill-color);\n",
              "      border-right-color: var(--fill-color);\n",
              "    }\n",
              "    40% {\n",
              "      border-color: transparent;\n",
              "      border-right-color: var(--fill-color);\n",
              "      border-top-color: var(--fill-color);\n",
              "    }\n",
              "    60% {\n",
              "      border-color: transparent;\n",
              "      border-right-color: var(--fill-color);\n",
              "    }\n",
              "    80% {\n",
              "      border-color: transparent;\n",
              "      border-right-color: var(--fill-color);\n",
              "      border-bottom-color: var(--fill-color);\n",
              "    }\n",
              "    90% {\n",
              "      border-color: transparent;\n",
              "      border-bottom-color: var(--fill-color);\n",
              "    }\n",
              "  }\n",
              "</style>\n",
              "\n",
              "  <script>\n",
              "    async function quickchart(key) {\n",
              "      const quickchartButtonEl =\n",
              "        document.querySelector('#' + key + ' button');\n",
              "      quickchartButtonEl.disabled = true;  // To prevent multiple clicks.\n",
              "      quickchartButtonEl.classList.add('colab-df-spinner');\n",
              "      try {\n",
              "        const charts = await google.colab.kernel.invokeFunction(\n",
              "            'suggestCharts', [key], {});\n",
              "      } catch (error) {\n",
              "        console.error('Error during call to suggestCharts:', error);\n",
              "      }\n",
              "      quickchartButtonEl.classList.remove('colab-df-spinner');\n",
              "      quickchartButtonEl.classList.add('colab-df-quickchart-complete');\n",
              "    }\n",
              "    (() => {\n",
              "      let quickchartButtonEl =\n",
              "        document.querySelector('#df-bdb94292-8d91-490f-b6fd-f8d1b6780043 button');\n",
              "      quickchartButtonEl.style.display =\n",
              "        google.colab.kernel.accessAllowed ? 'block' : 'none';\n",
              "    })();\n",
              "  </script>\n",
              "</div>\n",
              "\n",
              "    </div>\n",
              "  </div>\n"
            ],
            "application/vnd.google.colaboratory.intrinsic+json": {
              "type": "dataframe",
              "variable_name": "df",
              "summary": "{\n  \"name\": \"df\",\n  \"rows\": 22000,\n  \"fields\": [\n    {\n      \"column\": \"Text\",\n      \"properties\": {\n        \"dtype\": \"string\",\n        \"num_unique_values\": 21859,\n        \"samples\": [\n          \"semua kucing dalam genus ini berbagi nenek moyang yang sama yang mungkin hidup sekitar \\u2013 juta tahun yang lalu di asia hubungan yang tepat dalam felidae dekat tetapi masih belum pasti misalnya kucing gunung cina kadang-kadang diklasifikasikan dengan nama felis silvestris bieti sebagai upaspesies kucing liar seperti varietas afrika utara f s lybica\",\n          \"not completely happy with their temporary name in the summer of  a sign caught citos eye just outside the freestate town of kroonstad pointing to a little town called \\\"wonderboom\\\" in  danny de wet left the band and was replaced by garth mcleod formerly of respected south african rock band sugardrive in  garth mcleod was killed in a motorcycle accident and was replaced by jonathan bell\",\n          \"tetraglenes bucculenta \\u00e4r en skalbaggsart som beskrevs av charles joseph gahan  tetraglenes bucculenta ing\\u00e5r i sl\\u00e4ktet tetraglenes och familjen l\\u00e5nghorningar\"\n        ],\n        \"semantic_type\": \"\",\n        \"description\": \"\"\n      }\n    },\n    {\n      \"column\": \"language\",\n      \"properties\": {\n        \"dtype\": \"category\",\n        \"num_unique_values\": 22,\n        \"samples\": [\n          \"Estonian\",\n          \"Korean\",\n          \"Urdu\"\n        ],\n        \"semantic_type\": \"\",\n        \"description\": \"\"\n      }\n    }\n  ]\n}"
            }
          },
          "metadata": {},
          "execution_count": 5
        }
      ]
    },
    {
      "cell_type": "code",
      "source": [
        "df.language.value_counts()"
      ],
      "metadata": {
        "id": "U_0PhiWR4LgZ",
        "colab": {
          "base_uri": "https://localhost:8080/"
        },
        "outputId": "25145d81-15bf-4ddf-a8ab-f4624b669c31"
      },
      "execution_count": null,
      "outputs": [
        {
          "output_type": "execute_result",
          "data": {
            "text/plain": [
              "language\n",
              "Estonian      1000\n",
              "Swedish       1000\n",
              "English       1000\n",
              "Russian       1000\n",
              "Romanian      1000\n",
              "Persian       1000\n",
              "Pushto        1000\n",
              "Spanish       1000\n",
              "Hindi         1000\n",
              "Korean        1000\n",
              "Chinese       1000\n",
              "French        1000\n",
              "Portugese     1000\n",
              "Indonesian    1000\n",
              "Urdu          1000\n",
              "Latin         1000\n",
              "Turkish       1000\n",
              "Japanese      1000\n",
              "Dutch         1000\n",
              "Tamil         1000\n",
              "Thai          1000\n",
              "Arabic        1000\n",
              "Name: count, dtype: int64"
            ]
          },
          "metadata": {},
          "execution_count": 6
        }
      ]
    },
    {
      "cell_type": "code",
      "source": [
        "# function to clean text\n",
        "def clean_txt(text):\n",
        "    text=text.lower()\n",
        "    text=re.sub(r'[^\\w\\s]',' ',text)\n",
        "    text=re.sub(r'[_0-9]',' ',text)\n",
        "    text=re.sub(r'\\s\\s+',' ',text)\n",
        "    return text\n",
        "\n",
        "# example\n",
        "txt = 'my (&*(()))name %$#is harsh_priye'\n",
        "print(clean_txt(txt))"
      ],
      "metadata": {
        "id": "UWVGomzm4xpe",
        "colab": {
          "base_uri": "https://localhost:8080/"
        },
        "outputId": "d4eba249-065e-4722-85a5-e24f222bd131"
      },
      "execution_count": null,
      "outputs": [
        {
          "output_type": "stream",
          "name": "stdout",
          "text": [
            "my name is harsh priye\n"
          ]
        }
      ]
    },
    {
      "cell_type": "code",
      "source": [
        "x= [clean_txt(text) for text in df[\"Text\"]]"
      ],
      "metadata": {
        "id": "znqDgp455DNu"
      },
      "execution_count": null,
      "outputs": []
    },
    {
      "cell_type": "code",
      "source": [
        "print(x)"
      ],
      "metadata": {
        "id": "J26VIRCC5394",
        "colab": {
          "base_uri": "https://localhost:8080/"
        },
        "outputId": "8874cb98-6033-4e42-f7d2-d1f903daaba6"
      },
      "execution_count": null,
      "outputs": [
        {
          "output_type": "stream",
          "name": "stderr",
          "text": [
            "IOPub data rate exceeded.\n",
            "The notebook server will temporarily stop sending output\n",
            "to the client in order to avoid crashing it.\n",
            "To change this limit, set the config variable\n",
            "`--NotebookApp.iopub_data_rate_limit`.\n",
            "\n",
            "Current values:\n",
            "NotebookApp.iopub_data_rate_limit=1000000.0 (bytes/sec)\n",
            "NotebookApp.rate_limit_window=3.0 (secs)\n",
            "\n"
          ]
        }
      ]
    },
    {
      "cell_type": "code",
      "source": [
        "# using Tfidf Vectorizer:\n",
        "tfidf = TfidfVectorizer()\n",
        "tfidf.fit(x)\n",
        "x_ready = tfidf.transform(x)"
      ],
      "metadata": {
        "id": "5zfHiBAv5_xu"
      },
      "execution_count": null,
      "outputs": []
    },
    {
      "cell_type": "code",
      "source": [
        "print(x_ready)\n",
        "print(x_ready.shape)"
      ],
      "metadata": {
        "id": "e7RtfOKd7RRo",
        "colab": {
          "base_uri": "https://localhost:8080/"
        },
        "outputId": "8c7d56b2-bf53-415f-e5e7-a83dcfc2ae22"
      },
      "execution_count": null,
      "outputs": [
        {
          "output_type": "stream",
          "name": "stdout",
          "text": [
            "  (0, 122429)\t0.11632821567894927\n",
            "  (0, 122098)\t0.15245962403688545\n",
            "  (0, 122097)\t0.15245962403688545\n",
            "  (0, 117124)\t0.13392659423607992\n",
            "  (0, 113245)\t0.1389042716940385\n",
            "  (0, 112024)\t0.15245962403688545\n",
            "  (0, 106285)\t0.08285492222494331\n",
            "  (0, 104967)\t0.42661618752454356\n",
            "  (0, 80288)\t0.15245962403688545\n",
            "  (0, 80287)\t0.15245962403688545\n",
            "  (0, 80056)\t0.1464612850687559\n",
            "  (0, 79323)\t0.15245962403688545\n",
            "  (0, 77619)\t0.08182087878336176\n",
            "  (0, 76696)\t0.1389042716940385\n",
            "  (0, 75304)\t0.16625026948941637\n",
            "  (0, 75247)\t0.2290289414877052\n",
            "  (0, 67654)\t0.15245962403688545\n",
            "  (0, 67653)\t0.15245962403688545\n",
            "  (0, 63450)\t0.2433938789015453\n",
            "  (0, 63122)\t0.13392659423607992\n",
            "  (0, 60954)\t0.1464612850687559\n",
            "  (0, 59244)\t0.15245962403688545\n",
            "  (0, 57772)\t0.1389042716940385\n",
            "  (0, 55264)\t0.26785318847215983\n",
            "  (0, 53103)\t0.1322820868685367\n",
            "  :\t:\n",
            "  (21999, 104844)\t0.16248852574304734\n",
            "  (21999, 103845)\t0.18186228813180896\n",
            "  (21999, 102254)\t0.18987120980426156\n",
            "  (21999, 101742)\t0.3576348748525535\n",
            "  (21999, 101537)\t0.19555363016241606\n",
            "  (21999, 97734)\t0.07526526548636828\n",
            "  (21999, 95539)\t0.18546358214789696\n",
            "  (21999, 88346)\t0.20356255183486865\n",
            "  (21999, 84356)\t0.17385336645935637\n",
            "  (21999, 81608)\t0.10343937006427364\n",
            "  (21999, 74014)\t0.13510584168183312\n",
            "  (21999, 70726)\t0.18987120980426156\n",
            "  (21999, 69551)\t0.18987120980426156\n",
            "  (21999, 69301)\t0.3911072603248321\n",
            "  (21999, 66036)\t0.10270771489197011\n",
            "  (21999, 43690)\t0.20356255183486865\n",
            "  (21999, 40786)\t0.15215310275629662\n",
            "  (21999, 38077)\t0.1309466755562267\n",
            "  (21999, 28194)\t0.09160270401248888\n",
            "  (21999, 25042)\t0.19212934088982778\n",
            "  (21999, 20053)\t0.20356255183486865\n",
            "  (21999, 17371)\t0.20944489288925866\n",
            "  (21999, 6037)\t0.16016202442874922\n",
            "  (21999, 6023)\t0.14759970003791315\n",
            "  (21999, 4888)\t0.1290413507799354\n",
            "(22000, 277720)\n"
          ]
        }
      ]
    },
    {
      "cell_type": "code",
      "source": [
        "enc = LabelEncoder()\n",
        "enc.fit( df[\"language\"])\n",
        "y_ready = enc.transform(df[\"language\"])\n"
      ],
      "metadata": {
        "id": "TcCiquus7rM6"
      },
      "execution_count": null,
      "outputs": []
    },
    {
      "cell_type": "code",
      "source": [
        "print(y_ready)"
      ],
      "metadata": {
        "id": "8tzZz4IZ8IBJ",
        "colab": {
          "base_uri": "https://localhost:8080/"
        },
        "outputId": "760a2008-0691-441c-bec3-d9f0372d49c9"
      },
      "execution_count": null,
      "outputs": [
        {
          "output_type": "stream",
          "name": "stdout",
          "text": [
            "[ 4 17 19 ... 16  1 14]\n"
          ]
        }
      ]
    },
    {
      "cell_type": "code",
      "source": [
        "# storing encoded label hast list as 'labels'\n",
        "labels = enc.classes_\n",
        "# display first 10 labels:\n",
        "print(labels[:])\n",
        "print(len(labels))"
      ],
      "metadata": {
        "id": "KTQMvtTJ8T9A",
        "colab": {
          "base_uri": "https://localhost:8080/"
        },
        "outputId": "c6b71f5b-e7e2-4e9d-977b-15a34badd409"
      },
      "execution_count": null,
      "outputs": [
        {
          "output_type": "stream",
          "name": "stdout",
          "text": [
            "['Arabic' 'Chinese' 'Dutch' 'English' 'Estonian' 'French' 'Hindi'\n",
            " 'Indonesian' 'Japanese' 'Korean' 'Latin' 'Persian' 'Portugese' 'Pushto'\n",
            " 'Romanian' 'Russian' 'Spanish' 'Swedish' 'Tamil' 'Thai' 'Turkish' 'Urdu']\n",
            "22\n"
          ]
        }
      ]
    },
    {
      "cell_type": "markdown",
      "source": [
        "##Training model"
      ],
      "metadata": {
        "id": "eQYkBh6lHFWp"
      }
    },
    {
      "cell_type": "code",
      "source": [
        "# train test split:\n",
        "x_train, x_test, y_train, y_test = train_test_split(x_ready,y_ready,\n",
        "                                                    test_size=0.1, random_state=42)\n",
        "\n",
        "x_train.shape, y_train.shape, x_test.shape, y_test.shape"
      ],
      "metadata": {
        "id": "NvQajZ7c9Oml",
        "colab": {
          "base_uri": "https://localhost:8080/"
        },
        "outputId": "cd382b71-1d65-46fc-b48a-d5154ce18cde"
      },
      "execution_count": null,
      "outputs": [
        {
          "output_type": "execute_result",
          "data": {
            "text/plain": [
              "((19800, 277720), (19800,), (2200, 277720), (2200,))"
            ]
          },
          "metadata": {},
          "execution_count": 17
        }
      ]
    },
    {
      "cell_type": "code",
      "source": [
        "nb = MultinomialNB()\n",
        "nb.fit(x_train, y_train)"
      ],
      "metadata": {
        "id": "hAqVN4a39B1j",
        "colab": {
          "base_uri": "https://localhost:8080/",
          "height": 74
        },
        "outputId": "ae923500-20d0-41e6-a678-42bd11aca645"
      },
      "execution_count": null,
      "outputs": [
        {
          "output_type": "execute_result",
          "data": {
            "text/plain": [
              "MultinomialNB()"
            ],
            "text/html": [
              "<style>#sk-container-id-1 {color: black;background-color: white;}#sk-container-id-1 pre{padding: 0;}#sk-container-id-1 div.sk-toggleable {background-color: white;}#sk-container-id-1 label.sk-toggleable__label {cursor: pointer;display: block;width: 100%;margin-bottom: 0;padding: 0.3em;box-sizing: border-box;text-align: center;}#sk-container-id-1 label.sk-toggleable__label-arrow:before {content: \"▸\";float: left;margin-right: 0.25em;color: #696969;}#sk-container-id-1 label.sk-toggleable__label-arrow:hover:before {color: black;}#sk-container-id-1 div.sk-estimator:hover label.sk-toggleable__label-arrow:before {color: black;}#sk-container-id-1 div.sk-toggleable__content {max-height: 0;max-width: 0;overflow: hidden;text-align: left;background-color: #f0f8ff;}#sk-container-id-1 div.sk-toggleable__content pre {margin: 0.2em;color: black;border-radius: 0.25em;background-color: #f0f8ff;}#sk-container-id-1 input.sk-toggleable__control:checked~div.sk-toggleable__content {max-height: 200px;max-width: 100%;overflow: auto;}#sk-container-id-1 input.sk-toggleable__control:checked~label.sk-toggleable__label-arrow:before {content: \"▾\";}#sk-container-id-1 div.sk-estimator input.sk-toggleable__control:checked~label.sk-toggleable__label {background-color: #d4ebff;}#sk-container-id-1 div.sk-label input.sk-toggleable__control:checked~label.sk-toggleable__label {background-color: #d4ebff;}#sk-container-id-1 input.sk-hidden--visually {border: 0;clip: rect(1px 1px 1px 1px);clip: rect(1px, 1px, 1px, 1px);height: 1px;margin: -1px;overflow: hidden;padding: 0;position: absolute;width: 1px;}#sk-container-id-1 div.sk-estimator {font-family: monospace;background-color: #f0f8ff;border: 1px dotted black;border-radius: 0.25em;box-sizing: border-box;margin-bottom: 0.5em;}#sk-container-id-1 div.sk-estimator:hover {background-color: #d4ebff;}#sk-container-id-1 div.sk-parallel-item::after {content: \"\";width: 100%;border-bottom: 1px solid gray;flex-grow: 1;}#sk-container-id-1 div.sk-label:hover label.sk-toggleable__label {background-color: #d4ebff;}#sk-container-id-1 div.sk-serial::before {content: \"\";position: absolute;border-left: 1px solid gray;box-sizing: border-box;top: 0;bottom: 0;left: 50%;z-index: 0;}#sk-container-id-1 div.sk-serial {display: flex;flex-direction: column;align-items: center;background-color: white;padding-right: 0.2em;padding-left: 0.2em;position: relative;}#sk-container-id-1 div.sk-item {position: relative;z-index: 1;}#sk-container-id-1 div.sk-parallel {display: flex;align-items: stretch;justify-content: center;background-color: white;position: relative;}#sk-container-id-1 div.sk-item::before, #sk-container-id-1 div.sk-parallel-item::before {content: \"\";position: absolute;border-left: 1px solid gray;box-sizing: border-box;top: 0;bottom: 0;left: 50%;z-index: -1;}#sk-container-id-1 div.sk-parallel-item {display: flex;flex-direction: column;z-index: 1;position: relative;background-color: white;}#sk-container-id-1 div.sk-parallel-item:first-child::after {align-self: flex-end;width: 50%;}#sk-container-id-1 div.sk-parallel-item:last-child::after {align-self: flex-start;width: 50%;}#sk-container-id-1 div.sk-parallel-item:only-child::after {width: 0;}#sk-container-id-1 div.sk-dashed-wrapped {border: 1px dashed gray;margin: 0 0.4em 0.5em 0.4em;box-sizing: border-box;padding-bottom: 0.4em;background-color: white;}#sk-container-id-1 div.sk-label label {font-family: monospace;font-weight: bold;display: inline-block;line-height: 1.2em;}#sk-container-id-1 div.sk-label-container {text-align: center;}#sk-container-id-1 div.sk-container {/* jupyter's `normalize.less` sets `[hidden] { display: none; }` but bootstrap.min.css set `[hidden] { display: none !important; }` so we also need the `!important` here to be able to override the default hidden behavior on the sphinx rendered scikit-learn.org. See: https://github.com/scikit-learn/scikit-learn/issues/21755 */display: inline-block !important;position: relative;}#sk-container-id-1 div.sk-text-repr-fallback {display: none;}</style><div id=\"sk-container-id-1\" class=\"sk-top-container\"><div class=\"sk-text-repr-fallback\"><pre>MultinomialNB()</pre><b>In a Jupyter environment, please rerun this cell to show the HTML representation or trust the notebook. <br />On GitHub, the HTML representation is unable to render, please try loading this page with nbviewer.org.</b></div><div class=\"sk-container\" hidden><div class=\"sk-item\"><div class=\"sk-estimator sk-toggleable\"><input class=\"sk-toggleable__control sk-hidden--visually\" id=\"sk-estimator-id-1\" type=\"checkbox\" checked><label for=\"sk-estimator-id-1\" class=\"sk-toggleable__label sk-toggleable__label-arrow\">MultinomialNB</label><div class=\"sk-toggleable__content\"><pre>MultinomialNB()</pre></div></div></div></div></div>"
            ]
          },
          "metadata": {},
          "execution_count": 18
        }
      ]
    },
    {
      "cell_type": "code",
      "source": [
        "nb_score = nb.score(x_test,y_test)\n",
        "print(nb_score)"
      ],
      "metadata": {
        "id": "WsGSOdE395uZ",
        "colab": {
          "base_uri": "https://localhost:8080/"
        },
        "outputId": "3f2b21ae-effa-4cbf-8aab-07928994d00b"
      },
      "execution_count": null,
      "outputs": [
        {
          "output_type": "stream",
          "name": "stdout",
          "text": [
            "0.95\n"
          ]
        }
      ]
    },
    {
      "cell_type": "code",
      "source": [
        "# use pipeline to combine prefitted vectorizer and trained model into one object\n",
        "model = Pipeline([('vectorizer',tfidf),('nb',nb)])"
      ],
      "metadata": {
        "id": "FTjp3x7x-LP3"
      },
      "execution_count": null,
      "outputs": []
    },
    {
      "cell_type": "code",
      "source": [
        "# save the model:\n",
        "pickle.dump(model,open('Language_detection_model_v1.pkl','wb'))\n",
        "# save the encoder\n",
        "pickle.dump(enc,open('Language_encoder.pkl','wb'))"
      ],
      "metadata": {
        "id": "fKkKhheQ-Ntt"
      },
      "execution_count": null,
      "outputs": []
    },
    {
      "cell_type": "code",
      "source": [],
      "metadata": {
        "id": "vOc4Uvcc-kyH"
      },
      "execution_count": null,
      "outputs": []
    },
    {
      "cell_type": "markdown",
      "source": [
        "##Model evaluation"
      ],
      "metadata": {
        "id": "93_pcph3FBfw"
      }
    },
    {
      "cell_type": "code",
      "source": [
        "predict_Y=nb.predict(x_test)\n",
        "print(predict_Y)"
      ],
      "metadata": {
        "id": "AWSTusjAFRmB",
        "colab": {
          "base_uri": "https://localhost:8080/"
        },
        "outputId": "22ff884f-afa1-4c66-c4ac-2e36512f73ec"
      },
      "execution_count": null,
      "outputs": [
        {
          "output_type": "stream",
          "name": "stdout",
          "text": [
            "[ 8 15 10 ...  9  2 14]\n"
          ]
        }
      ]
    },
    {
      "cell_type": "code",
      "source": [
        "import numpy as np\n",
        "import matplotlib.pyplot as plt\n",
        "import seaborn as sns\n",
        "from sklearn.metrics import confusion_matrix\n",
        "\n",
        "# Assuming y_true contains the true labels and y_pred contains the predicted labels\n",
        "conf_matrix = confusion_matrix(y_test,predict_Y)\n",
        "\n",
        "# Define class labels if available\n",
        "class_labels = ['Arabic', 'Chinese' ,'Dutch' ,'English', 'Estonian', 'French', 'Hindi',\n",
        " 'Indonesian' ,'Japanese', 'Korean' ,'Latin' ,'Persian' ,'Portugese' ,'Pushto',\n",
        " 'Romanian' ,'Russian' ,'Spanish', 'Swedish' ,'Tamil' ,'Thai' ,'Turkish', 'Urdu']  # Replace with your class labels if available\n",
        "\n",
        "# Plot confusion matrix as heatmap\n",
        "plt.figure(figsize=(8, 6))\n",
        "sns.set(font_scale=1)  # Adjust font size as needed\n",
        "sns.heatmap(conf_matrix, annot=True, fmt='d', cmap='Blues', cbar=False,\n",
        "            xticklabels=class_labels, yticklabels=class_labels)\n",
        "plt.xlabel('Predicted Labels')\n",
        "plt.ylabel('True Labels')\n",
        "plt.title('Confusion Matrix')\n",
        "plt.show()\n"
      ],
      "metadata": {
        "id": "muTzMKwFFD45",
        "colab": {
          "base_uri": "https://localhost:8080/",
          "height": 641
        },
        "outputId": "d49515c1-7ed3-407d-d1dc-a33c59107829"
      },
      "execution_count": null,
      "outputs": [
        {
          "output_type": "display_data",
          "data": {
            "text/plain": [
              "<Figure size 800x600 with 1 Axes>"
            ],
            "image/png": "[encoded data removed]"
          },
          "metadata": {}
        }
      ]
    },
    {
      "cell_type": "code",
      "source": [
        "from sklearn.metrics import classification_report\n",
        "\n",
        "# Assuming y_true contains the true labels and predict_Y contains the predicted labels\n",
        "report = classification_report(y_test,predict_Y)\n",
        "\n",
        "print(\"Classification Report:\")\n",
        "print(report)"
      ],
      "metadata": {
        "id": "hamFz3s9GseJ",
        "colab": {
          "base_uri": "https://localhost:8080/"
        },
        "outputId": "241f2466-4c5e-4ed7-fed9-a698a3f91193"
      },
      "execution_count": null,
      "outputs": [
        {
          "output_type": "stream",
          "name": "stdout",
          "text": [
            "Classification Report:\n",
            "              precision    recall  f1-score   support\n",
            "\n",
            "           0       1.00      1.00      1.00       113\n",
            "           1       0.96      0.43      0.59       108\n",
            "           2       0.98      0.99      0.99       110\n",
            "           3       0.73      1.00      0.85       102\n",
            "           4       0.98      0.96      0.97        98\n",
            "           5       0.95      0.99      0.97       105\n",
            "           6       1.00      0.98      0.99       112\n",
            "           7       0.99      0.97      0.98       102\n",
            "           8       0.62      0.87      0.72        90\n",
            "           9       1.00      1.00      1.00        87\n",
            "          10       0.98      0.90      0.94       103\n",
            "          11       1.00      1.00      1.00       107\n",
            "          12       1.00      0.97      0.98        98\n",
            "          13       1.00      0.97      0.98       101\n",
            "          14       0.96      0.99      0.97        98\n",
            "          15       0.98      1.00      0.99       110\n",
            "          16       0.98      1.00      0.99        95\n",
            "          17       0.99      1.00      0.99        86\n",
            "          18       1.00      0.99      0.99        93\n",
            "          19       1.00      0.97      0.98        88\n",
            "          20       0.99      0.99      0.99        97\n",
            "          21       1.00      0.97      0.98        97\n",
            "\n",
            "    accuracy                           0.95      2200\n",
            "   macro avg       0.96      0.95      0.95      2200\n",
            "weighted avg       0.96      0.95      0.95      2200\n",
            "\n"
          ]
        }
      ]
    },
    {
      "cell_type": "markdown",
      "source": [
        "##Predictions"
      ],
      "metadata": {
        "id": "wY4HymFM-n7x"
      }
    },
    {
      "cell_type": "code",
      "source": [
        "with open('/content/Language_detection_model_v1.pkl', 'rb') as file:\n",
        "    model_language = pickle.load(file)\n",
        "\n",
        "with open('/content/Language_encoder.pkl', 'rb') as file:\n",
        "    encode_language = pickle.load(file)\n",
        "\n",
        "def predict(text):\n",
        "    pred =model_language.predict([clean_txt(text)])\n",
        "    ans = encode_language.inverse_transform(pred)\n",
        "    return ans[0]"
      ],
      "metadata": {
        "id": "4DnjHsKH-p1d"
      },
      "execution_count": null,
      "outputs": []
    },
    {
      "cell_type": "code",
      "source": [],
      "metadata": {
        "id": "INeKaQjH-rIS"
      },
      "execution_count": null,
      "outputs": []
    },
    {
      "cell_type": "code",
      "source": [
        "predict('my name is harsh'), predict('मेरा नाम हर्ष हे'), predict('mi nombre es harsh'), predict('меня зовут Харш'), predict('mon nom est harsh'),predict(\"シャーリー・フィールドは、サン・ベルナルド・アベニュー沿い市民センターとrtマーティン高校に.\"),predict(\"de spons behoort tot het geslacht haliclona en.\")"
      ],
      "metadata": {
        "colab": {
          "base_uri": "https://localhost:8080/"
        },
        "id": "AaqAvFhK-i6h",
        "outputId": "f15d5f86-55ab-4fc0-fb6f-d1e10fdb2430"
      },
      "execution_count": null,
      "outputs": [
        {
          "output_type": "execute_result",
          "data": {
            "text/plain": [
              "('English', 'Hindi', 'Spanish', 'Russian', 'French', 'Japanese', 'Dutch')"
            ]
          },
          "metadata": {},
          "execution_count": 30
        }
      ]
    }
  ]
}